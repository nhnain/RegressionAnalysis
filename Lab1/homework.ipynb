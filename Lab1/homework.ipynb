{
 "cells": [
  {
   "cell_type": "code",
   "execution_count": 42,
   "metadata": {},
   "outputs": [],
   "source": [
    "import numpy as np\n",
    "import matplotlib.pyplot as plt\n",
    "import pandas as pd\n",
    "import statsmodels.api as sm\n",
    "import statsmodels.formula.api as smf\n",
    "import seaborn as sns\n",
    "import scipy.stats as stats"
   ]
  },
  {
   "cell_type": "markdown",
   "metadata": {},
   "source": [
    "**2.4**  \n",
    "Table B.3 presents data on the gasoline mileage performance of 32 different automobiles.  \n",
    "a. Fit a simple linear regression model relating gasoline mileage y (miles per gallon) to engine displacement xl (cubic inches).  "
   ]
  },
  {
   "cell_type": "code",
   "execution_count": 43,
   "metadata": {},
   "outputs": [
    {
     "data": {
      "text/html": [
       "<div>\n",
       "<style scoped>\n",
       "    .dataframe tbody tr th:only-of-type {\n",
       "        vertical-align: middle;\n",
       "    }\n",
       "\n",
       "    .dataframe tbody tr th {\n",
       "        vertical-align: top;\n",
       "    }\n",
       "\n",
       "    .dataframe thead th {\n",
       "        text-align: right;\n",
       "    }\n",
       "</style>\n",
       "<table border=\"1\" class=\"dataframe\">\n",
       "  <thead>\n",
       "    <tr style=\"text-align: right;\">\n",
       "      <th></th>\n",
       "      <th>y</th>\n",
       "      <th>x1</th>\n",
       "      <th>x2</th>\n",
       "      <th>x3</th>\n",
       "      <th>x4</th>\n",
       "      <th>x5</th>\n",
       "      <th>x6</th>\n",
       "      <th>x7</th>\n",
       "      <th>x8</th>\n",
       "      <th>x9</th>\n",
       "      <th>x10</th>\n",
       "      <th>x11</th>\n",
       "    </tr>\n",
       "  </thead>\n",
       "  <tbody>\n",
       "    <tr>\n",
       "      <th>0</th>\n",
       "      <td>18.90</td>\n",
       "      <td>350.0</td>\n",
       "      <td>165</td>\n",
       "      <td>260.0</td>\n",
       "      <td>8.00</td>\n",
       "      <td>2.56</td>\n",
       "      <td>4</td>\n",
       "      <td>3</td>\n",
       "      <td>200.3</td>\n",
       "      <td>69.9</td>\n",
       "      <td>3910</td>\n",
       "      <td>1</td>\n",
       "    </tr>\n",
       "    <tr>\n",
       "      <th>1</th>\n",
       "      <td>17.00</td>\n",
       "      <td>350.0</td>\n",
       "      <td>170</td>\n",
       "      <td>275.0</td>\n",
       "      <td>8.50</td>\n",
       "      <td>2.56</td>\n",
       "      <td>4</td>\n",
       "      <td>3</td>\n",
       "      <td>199.6</td>\n",
       "      <td>72.9</td>\n",
       "      <td>3860</td>\n",
       "      <td>1</td>\n",
       "    </tr>\n",
       "    <tr>\n",
       "      <th>2</th>\n",
       "      <td>20.00</td>\n",
       "      <td>250.0</td>\n",
       "      <td>105</td>\n",
       "      <td>185.0</td>\n",
       "      <td>8.25</td>\n",
       "      <td>2.73</td>\n",
       "      <td>1</td>\n",
       "      <td>3</td>\n",
       "      <td>196.7</td>\n",
       "      <td>72.2</td>\n",
       "      <td>3510</td>\n",
       "      <td>1</td>\n",
       "    </tr>\n",
       "    <tr>\n",
       "      <th>3</th>\n",
       "      <td>18.25</td>\n",
       "      <td>351.0</td>\n",
       "      <td>143</td>\n",
       "      <td>255.0</td>\n",
       "      <td>8.00</td>\n",
       "      <td>3.00</td>\n",
       "      <td>2</td>\n",
       "      <td>3</td>\n",
       "      <td>199.9</td>\n",
       "      <td>74.0</td>\n",
       "      <td>3890</td>\n",
       "      <td>1</td>\n",
       "    </tr>\n",
       "    <tr>\n",
       "      <th>4</th>\n",
       "      <td>20.07</td>\n",
       "      <td>225.0</td>\n",
       "      <td>95</td>\n",
       "      <td>170.0</td>\n",
       "      <td>8.40</td>\n",
       "      <td>2.76</td>\n",
       "      <td>1</td>\n",
       "      <td>3</td>\n",
       "      <td>194.1</td>\n",
       "      <td>71.8</td>\n",
       "      <td>3365</td>\n",
       "      <td>0</td>\n",
       "    </tr>\n",
       "    <tr>\n",
       "      <th>5</th>\n",
       "      <td>11.20</td>\n",
       "      <td>440.0</td>\n",
       "      <td>215</td>\n",
       "      <td>330.0</td>\n",
       "      <td>8.20</td>\n",
       "      <td>2.88</td>\n",
       "      <td>4</td>\n",
       "      <td>3</td>\n",
       "      <td>184.5</td>\n",
       "      <td>69.0</td>\n",
       "      <td>4215</td>\n",
       "      <td>1</td>\n",
       "    </tr>\n",
       "    <tr>\n",
       "      <th>6</th>\n",
       "      <td>22.12</td>\n",
       "      <td>231.0</td>\n",
       "      <td>110</td>\n",
       "      <td>175.0</td>\n",
       "      <td>8.00</td>\n",
       "      <td>2.56</td>\n",
       "      <td>2</td>\n",
       "      <td>3</td>\n",
       "      <td>179.3</td>\n",
       "      <td>65.4</td>\n",
       "      <td>3020</td>\n",
       "      <td>1</td>\n",
       "    </tr>\n",
       "    <tr>\n",
       "      <th>7</th>\n",
       "      <td>21.47</td>\n",
       "      <td>262.0</td>\n",
       "      <td>110</td>\n",
       "      <td>200.0</td>\n",
       "      <td>8.50</td>\n",
       "      <td>2.56</td>\n",
       "      <td>2</td>\n",
       "      <td>3</td>\n",
       "      <td>179.3</td>\n",
       "      <td>65.4</td>\n",
       "      <td>3180</td>\n",
       "      <td>1</td>\n",
       "    </tr>\n",
       "    <tr>\n",
       "      <th>8</th>\n",
       "      <td>34.70</td>\n",
       "      <td>89.7</td>\n",
       "      <td>70</td>\n",
       "      <td>81.0</td>\n",
       "      <td>8.20</td>\n",
       "      <td>3.90</td>\n",
       "      <td>2</td>\n",
       "      <td>4</td>\n",
       "      <td>155.7</td>\n",
       "      <td>64.0</td>\n",
       "      <td>1905</td>\n",
       "      <td>0</td>\n",
       "    </tr>\n",
       "    <tr>\n",
       "      <th>9</th>\n",
       "      <td>30.40</td>\n",
       "      <td>96.9</td>\n",
       "      <td>75</td>\n",
       "      <td>83.0</td>\n",
       "      <td>9.00</td>\n",
       "      <td>4.30</td>\n",
       "      <td>2</td>\n",
       "      <td>5</td>\n",
       "      <td>165.2</td>\n",
       "      <td>65.0</td>\n",
       "      <td>2320</td>\n",
       "      <td>0</td>\n",
       "    </tr>\n",
       "    <tr>\n",
       "      <th>10</th>\n",
       "      <td>16.50</td>\n",
       "      <td>350.0</td>\n",
       "      <td>155</td>\n",
       "      <td>250.0</td>\n",
       "      <td>8.50</td>\n",
       "      <td>3.08</td>\n",
       "      <td>4</td>\n",
       "      <td>3</td>\n",
       "      <td>195.4</td>\n",
       "      <td>74.4</td>\n",
       "      <td>3885</td>\n",
       "      <td>1</td>\n",
       "    </tr>\n",
       "    <tr>\n",
       "      <th>11</th>\n",
       "      <td>36.50</td>\n",
       "      <td>85.3</td>\n",
       "      <td>80</td>\n",
       "      <td>83.0</td>\n",
       "      <td>8.50</td>\n",
       "      <td>3.89</td>\n",
       "      <td>2</td>\n",
       "      <td>4</td>\n",
       "      <td>160.6</td>\n",
       "      <td>62.2</td>\n",
       "      <td>2009</td>\n",
       "      <td>0</td>\n",
       "    </tr>\n",
       "    <tr>\n",
       "      <th>12</th>\n",
       "      <td>21.50</td>\n",
       "      <td>171.0</td>\n",
       "      <td>109</td>\n",
       "      <td>146.0</td>\n",
       "      <td>8.20</td>\n",
       "      <td>3.22</td>\n",
       "      <td>2</td>\n",
       "      <td>4</td>\n",
       "      <td>170.4</td>\n",
       "      <td>66.9</td>\n",
       "      <td>2655</td>\n",
       "      <td>0</td>\n",
       "    </tr>\n",
       "    <tr>\n",
       "      <th>13</th>\n",
       "      <td>19.70</td>\n",
       "      <td>258.0</td>\n",
       "      <td>110</td>\n",
       "      <td>195.0</td>\n",
       "      <td>8.00</td>\n",
       "      <td>3.08</td>\n",
       "      <td>1</td>\n",
       "      <td>3</td>\n",
       "      <td>171.5</td>\n",
       "      <td>77.0</td>\n",
       "      <td>3375</td>\n",
       "      <td>1</td>\n",
       "    </tr>\n",
       "    <tr>\n",
       "      <th>14</th>\n",
       "      <td>20.30</td>\n",
       "      <td>140.0</td>\n",
       "      <td>83</td>\n",
       "      <td>109.0</td>\n",
       "      <td>8.40</td>\n",
       "      <td>3.40</td>\n",
       "      <td>2</td>\n",
       "      <td>4</td>\n",
       "      <td>168.8</td>\n",
       "      <td>69.4</td>\n",
       "      <td>2700</td>\n",
       "      <td>0</td>\n",
       "    </tr>\n",
       "    <tr>\n",
       "      <th>15</th>\n",
       "      <td>17.80</td>\n",
       "      <td>302.0</td>\n",
       "      <td>129</td>\n",
       "      <td>220.0</td>\n",
       "      <td>8.00</td>\n",
       "      <td>3.00</td>\n",
       "      <td>2</td>\n",
       "      <td>3</td>\n",
       "      <td>199.9</td>\n",
       "      <td>74.0</td>\n",
       "      <td>3890</td>\n",
       "      <td>1</td>\n",
       "    </tr>\n",
       "    <tr>\n",
       "      <th>16</th>\n",
       "      <td>14.39</td>\n",
       "      <td>500.0</td>\n",
       "      <td>190</td>\n",
       "      <td>360.0</td>\n",
       "      <td>8.50</td>\n",
       "      <td>2.73</td>\n",
       "      <td>4</td>\n",
       "      <td>3</td>\n",
       "      <td>224.1</td>\n",
       "      <td>79.8</td>\n",
       "      <td>5290</td>\n",
       "      <td>1</td>\n",
       "    </tr>\n",
       "    <tr>\n",
       "      <th>17</th>\n",
       "      <td>14.89</td>\n",
       "      <td>440.0</td>\n",
       "      <td>215</td>\n",
       "      <td>330.0</td>\n",
       "      <td>8.20</td>\n",
       "      <td>2.71</td>\n",
       "      <td>4</td>\n",
       "      <td>3</td>\n",
       "      <td>231.0</td>\n",
       "      <td>79.7</td>\n",
       "      <td>5185</td>\n",
       "      <td>1</td>\n",
       "    </tr>\n",
       "    <tr>\n",
       "      <th>18</th>\n",
       "      <td>17.80</td>\n",
       "      <td>350.0</td>\n",
       "      <td>155</td>\n",
       "      <td>250.0</td>\n",
       "      <td>8.50</td>\n",
       "      <td>3.08</td>\n",
       "      <td>4</td>\n",
       "      <td>3</td>\n",
       "      <td>196.7</td>\n",
       "      <td>72.2</td>\n",
       "      <td>3910</td>\n",
       "      <td>1</td>\n",
       "    </tr>\n",
       "    <tr>\n",
       "      <th>19</th>\n",
       "      <td>16.41</td>\n",
       "      <td>318.0</td>\n",
       "      <td>145</td>\n",
       "      <td>255.0</td>\n",
       "      <td>8.50</td>\n",
       "      <td>2.45</td>\n",
       "      <td>2</td>\n",
       "      <td>3</td>\n",
       "      <td>197.6</td>\n",
       "      <td>71.0</td>\n",
       "      <td>3660</td>\n",
       "      <td>1</td>\n",
       "    </tr>\n",
       "    <tr>\n",
       "      <th>20</th>\n",
       "      <td>23.54</td>\n",
       "      <td>231.0</td>\n",
       "      <td>110</td>\n",
       "      <td>175.0</td>\n",
       "      <td>8.00</td>\n",
       "      <td>2.56</td>\n",
       "      <td>2</td>\n",
       "      <td>3</td>\n",
       "      <td>179.3</td>\n",
       "      <td>65.4</td>\n",
       "      <td>3050</td>\n",
       "      <td>1</td>\n",
       "    </tr>\n",
       "    <tr>\n",
       "      <th>21</th>\n",
       "      <td>21.47</td>\n",
       "      <td>360.0</td>\n",
       "      <td>180</td>\n",
       "      <td>290.0</td>\n",
       "      <td>8.40</td>\n",
       "      <td>2.45</td>\n",
       "      <td>2</td>\n",
       "      <td>3</td>\n",
       "      <td>214.2</td>\n",
       "      <td>76.3</td>\n",
       "      <td>4250</td>\n",
       "      <td>1</td>\n",
       "    </tr>\n",
       "    <tr>\n",
       "      <th>22</th>\n",
       "      <td>16.59</td>\n",
       "      <td>400.0</td>\n",
       "      <td>185</td>\n",
       "      <td>NaN</td>\n",
       "      <td>7.60</td>\n",
       "      <td>3.08</td>\n",
       "      <td>4</td>\n",
       "      <td>3</td>\n",
       "      <td>196.0</td>\n",
       "      <td>73.0</td>\n",
       "      <td>3850</td>\n",
       "      <td>1</td>\n",
       "    </tr>\n",
       "    <tr>\n",
       "      <th>23</th>\n",
       "      <td>31.90</td>\n",
       "      <td>96.9</td>\n",
       "      <td>75</td>\n",
       "      <td>83.0</td>\n",
       "      <td>9.00</td>\n",
       "      <td>4.30</td>\n",
       "      <td>2</td>\n",
       "      <td>5</td>\n",
       "      <td>165.2</td>\n",
       "      <td>61.8</td>\n",
       "      <td>2275</td>\n",
       "      <td>0</td>\n",
       "    </tr>\n",
       "    <tr>\n",
       "      <th>24</th>\n",
       "      <td>29.40</td>\n",
       "      <td>140.0</td>\n",
       "      <td>86</td>\n",
       "      <td>NaN</td>\n",
       "      <td>8.00</td>\n",
       "      <td>2.92</td>\n",
       "      <td>2</td>\n",
       "      <td>4</td>\n",
       "      <td>176.4</td>\n",
       "      <td>65.4</td>\n",
       "      <td>2150</td>\n",
       "      <td>0</td>\n",
       "    </tr>\n",
       "    <tr>\n",
       "      <th>25</th>\n",
       "      <td>13.27</td>\n",
       "      <td>460.0</td>\n",
       "      <td>223</td>\n",
       "      <td>366.0</td>\n",
       "      <td>8.00</td>\n",
       "      <td>3.00</td>\n",
       "      <td>4</td>\n",
       "      <td>3</td>\n",
       "      <td>228.0</td>\n",
       "      <td>79.8</td>\n",
       "      <td>5430</td>\n",
       "      <td>1</td>\n",
       "    </tr>\n",
       "    <tr>\n",
       "      <th>26</th>\n",
       "      <td>23.90</td>\n",
       "      <td>133.6</td>\n",
       "      <td>96</td>\n",
       "      <td>120.0</td>\n",
       "      <td>8.40</td>\n",
       "      <td>3.91</td>\n",
       "      <td>2</td>\n",
       "      <td>5</td>\n",
       "      <td>171.5</td>\n",
       "      <td>63.4</td>\n",
       "      <td>2535</td>\n",
       "      <td>0</td>\n",
       "    </tr>\n",
       "    <tr>\n",
       "      <th>27</th>\n",
       "      <td>19.73</td>\n",
       "      <td>318.0</td>\n",
       "      <td>140</td>\n",
       "      <td>255.0</td>\n",
       "      <td>8.50</td>\n",
       "      <td>2.71</td>\n",
       "      <td>2</td>\n",
       "      <td>3</td>\n",
       "      <td>215.3</td>\n",
       "      <td>76.3</td>\n",
       "      <td>4370</td>\n",
       "      <td>1</td>\n",
       "    </tr>\n",
       "    <tr>\n",
       "      <th>28</th>\n",
       "      <td>13.90</td>\n",
       "      <td>351.0</td>\n",
       "      <td>148</td>\n",
       "      <td>243.0</td>\n",
       "      <td>8.00</td>\n",
       "      <td>3.25</td>\n",
       "      <td>2</td>\n",
       "      <td>3</td>\n",
       "      <td>215.5</td>\n",
       "      <td>78.5</td>\n",
       "      <td>4540</td>\n",
       "      <td>1</td>\n",
       "    </tr>\n",
       "    <tr>\n",
       "      <th>29</th>\n",
       "      <td>13.27</td>\n",
       "      <td>351.0</td>\n",
       "      <td>148</td>\n",
       "      <td>243.0</td>\n",
       "      <td>8.00</td>\n",
       "      <td>3.26</td>\n",
       "      <td>2</td>\n",
       "      <td>3</td>\n",
       "      <td>216.1</td>\n",
       "      <td>78.5</td>\n",
       "      <td>4715</td>\n",
       "      <td>1</td>\n",
       "    </tr>\n",
       "    <tr>\n",
       "      <th>30</th>\n",
       "      <td>13.77</td>\n",
       "      <td>360.0</td>\n",
       "      <td>195</td>\n",
       "      <td>295.0</td>\n",
       "      <td>8.25</td>\n",
       "      <td>3.15</td>\n",
       "      <td>4</td>\n",
       "      <td>3</td>\n",
       "      <td>209.3</td>\n",
       "      <td>77.4</td>\n",
       "      <td>4215</td>\n",
       "      <td>1</td>\n",
       "    </tr>\n",
       "    <tr>\n",
       "      <th>31</th>\n",
       "      <td>16.50</td>\n",
       "      <td>360.0</td>\n",
       "      <td>165</td>\n",
       "      <td>255.0</td>\n",
       "      <td>8.50</td>\n",
       "      <td>2.73</td>\n",
       "      <td>4</td>\n",
       "      <td>3</td>\n",
       "      <td>185.2</td>\n",
       "      <td>69.0</td>\n",
       "      <td>3660</td>\n",
       "      <td>1</td>\n",
       "    </tr>\n",
       "  </tbody>\n",
       "</table>\n",
       "</div>"
      ],
      "text/plain": [
       "        y     x1   x2     x3    x4    x5  x6  x7     x8    x9   x10  x11\n",
       "0   18.90  350.0  165  260.0  8.00  2.56   4   3  200.3  69.9  3910    1\n",
       "1   17.00  350.0  170  275.0  8.50  2.56   4   3  199.6  72.9  3860    1\n",
       "2   20.00  250.0  105  185.0  8.25  2.73   1   3  196.7  72.2  3510    1\n",
       "3   18.25  351.0  143  255.0  8.00  3.00   2   3  199.9  74.0  3890    1\n",
       "4   20.07  225.0   95  170.0  8.40  2.76   1   3  194.1  71.8  3365    0\n",
       "5   11.20  440.0  215  330.0  8.20  2.88   4   3  184.5  69.0  4215    1\n",
       "6   22.12  231.0  110  175.0  8.00  2.56   2   3  179.3  65.4  3020    1\n",
       "7   21.47  262.0  110  200.0  8.50  2.56   2   3  179.3  65.4  3180    1\n",
       "8   34.70   89.7   70   81.0  8.20  3.90   2   4  155.7  64.0  1905    0\n",
       "9   30.40   96.9   75   83.0  9.00  4.30   2   5  165.2  65.0  2320    0\n",
       "10  16.50  350.0  155  250.0  8.50  3.08   4   3  195.4  74.4  3885    1\n",
       "11  36.50   85.3   80   83.0  8.50  3.89   2   4  160.6  62.2  2009    0\n",
       "12  21.50  171.0  109  146.0  8.20  3.22   2   4  170.4  66.9  2655    0\n",
       "13  19.70  258.0  110  195.0  8.00  3.08   1   3  171.5  77.0  3375    1\n",
       "14  20.30  140.0   83  109.0  8.40  3.40   2   4  168.8  69.4  2700    0\n",
       "15  17.80  302.0  129  220.0  8.00  3.00   2   3  199.9  74.0  3890    1\n",
       "16  14.39  500.0  190  360.0  8.50  2.73   4   3  224.1  79.8  5290    1\n",
       "17  14.89  440.0  215  330.0  8.20  2.71   4   3  231.0  79.7  5185    1\n",
       "18  17.80  350.0  155  250.0  8.50  3.08   4   3  196.7  72.2  3910    1\n",
       "19  16.41  318.0  145  255.0  8.50  2.45   2   3  197.6  71.0  3660    1\n",
       "20  23.54  231.0  110  175.0  8.00  2.56   2   3  179.3  65.4  3050    1\n",
       "21  21.47  360.0  180  290.0  8.40  2.45   2   3  214.2  76.3  4250    1\n",
       "22  16.59  400.0  185    NaN  7.60  3.08   4   3  196.0  73.0  3850    1\n",
       "23  31.90   96.9   75   83.0  9.00  4.30   2   5  165.2  61.8  2275    0\n",
       "24  29.40  140.0   86    NaN  8.00  2.92   2   4  176.4  65.4  2150    0\n",
       "25  13.27  460.0  223  366.0  8.00  3.00   4   3  228.0  79.8  5430    1\n",
       "26  23.90  133.6   96  120.0  8.40  3.91   2   5  171.5  63.4  2535    0\n",
       "27  19.73  318.0  140  255.0  8.50  2.71   2   3  215.3  76.3  4370    1\n",
       "28  13.90  351.0  148  243.0  8.00  3.25   2   3  215.5  78.5  4540    1\n",
       "29  13.27  351.0  148  243.0  8.00  3.26   2   3  216.1  78.5  4715    1\n",
       "30  13.77  360.0  195  295.0  8.25  3.15   4   3  209.3  77.4  4215    1\n",
       "31  16.50  360.0  165  255.0  8.50  2.73   4   3  185.2  69.0  3660    1"
      ]
     },
     "execution_count": 43,
     "metadata": {},
     "output_type": "execute_result"
    }
   ],
   "source": [
    "df = pd.read_csv('table_b3.csv')\n",
    "df"
   ]
  },
  {
   "cell_type": "code",
   "execution_count": 44,
   "metadata": {},
   "outputs": [
    {
     "name": "stdout",
     "output_type": "stream",
     "text": [
      "                            OLS Regression Results                            \n",
      "==============================================================================\n",
      "Dep. Variable:                      y   R-squared:                       0.772\n",
      "Model:                            OLS   Adj. R-squared:                  0.765\n",
      "Method:                 Least Squares   F-statistic:                     101.7\n",
      "Date:                Fri, 14 Mar 2025   Prob (F-statistic):           3.74e-11\n",
      "Time:                        14:10:20   Log-Likelihood:                -80.215\n",
      "No. Observations:                  32   AIC:                             164.4\n",
      "Df Residuals:                      30   BIC:                             167.4\n",
      "Df Model:                           1                                         \n",
      "Covariance Type:            nonrobust                                         \n",
      "==============================================================================\n",
      "                 coef    std err          t      P>|t|      [0.025      0.975]\n",
      "------------------------------------------------------------------------------\n",
      "const         33.7227      1.444     23.355      0.000      30.774      36.672\n",
      "x1            -0.0474      0.005    -10.086      0.000      -0.057      -0.038\n",
      "==============================================================================\n",
      "Omnibus:                        0.194   Durbin-Watson:                   1.677\n",
      "Prob(Omnibus):                  0.908   Jarque-Bera (JB):                0.135\n",
      "Skew:                           0.135   Prob(JB):                        0.935\n",
      "Kurtosis:                       2.831   Cond. No.                         820.\n",
      "==============================================================================\n",
      "\n",
      "Notes:\n",
      "[1] Standard Errors assume that the covariance matrix of the errors is correctly specified.\n"
     ]
    }
   ],
   "source": [
    "X = df['x1']\n",
    "Y = df['y']\n",
    "X = sm.add_constant(X)\n",
    "model = sm.OLS(Y, X).fit()\n",
    "print(model.summary())"
   ]
  },
  {
   "cell_type": "markdown",
   "metadata": {},
   "source": [
    "b. Construct the analysis-of-variance table and test for significance of regression.  \n"
   ]
  },
  {
   "cell_type": "code",
   "execution_count": 45,
   "metadata": {},
   "outputs": [
    {
     "name": "stdout",
     "output_type": "stream",
     "text": [
      "            df      sum_sq     mean_sq           F        PR(>F)\n",
      "x1         1.0  955.719710  955.719710  101.735668  3.743041e-11\n",
      "Residual  30.0  281.824378    9.394146         NaN           NaN\n"
     ]
    }
   ],
   "source": [
    "# Fit the model using the formula interface\n",
    "b1 = -0.0474\n",
    "b0 = 33.7227\n",
    "\n",
    "model_formula = smf.ols('y ~ x1', data=df).fit()\n",
    "anova_table = sm.stats.anova_lm(model_formula, typ=1)\n",
    "print(anova_table)"
   ]
  },
  {
   "cell_type": "code",
   "execution_count": 46,
   "metadata": {},
   "outputs": [
    {
     "name": "stdout",
     "output_type": "stream",
     "text": [
      "1 30\n"
     ]
    }
   ],
   "source": [
    "#Degree of freedom\n",
    "df_x1 = 1\n",
    "df_err = len(df) - 2\n",
    "print(df_x1, df_err)"
   ]
  },
  {
   "cell_type": "code",
   "execution_count": 47,
   "metadata": {},
   "outputs": [
    {
     "name": "stdout",
     "output_type": "stream",
     "text": [
      "957.3560785796001 281.82930492959997\n"
     ]
    }
   ],
   "source": [
    "#Sum of Squares\n",
    "SSR = sum(((b0 + b1*df['x1']) - np.mean(df['y']))**2)\n",
    "SSE = sum((df['y'] - (b0 + b1*df['x1']))**2)\n",
    "print(SSR, SSE)"
   ]
  },
  {
   "cell_type": "code",
   "execution_count": 48,
   "metadata": {},
   "outputs": [
    {
     "name": "stdout",
     "output_type": "stream",
     "text": [
      "957.3560785796001 9.394310164319998\n"
     ]
    }
   ],
   "source": [
    "#Mean Squares\n",
    "MSR = SSR / df_x1\n",
    "MSE = SSE / df_err\n",
    "print(MSR, MSE)"
   ]
  },
  {
   "cell_type": "code",
   "execution_count": 49,
   "metadata": {},
   "outputs": [
    {
     "name": "stdout",
     "output_type": "stream",
     "text": [
      "966.7461576638698 9.394310164319998\n"
     ]
    }
   ],
   "source": [
    "#Expected Mean Squares\n",
    "EMSR = MSE + b1**2 * sum((df['x1'] - np.mean(df['x1']))**2)\n",
    "EMSE = MSE\n",
    "print(EMSR, EMSE)"
   ]
  },
  {
   "cell_type": "code",
   "execution_count": 50,
   "metadata": {},
   "outputs": [
    {
     "name": "stdout",
     "output_type": "stream",
     "text": [
      "F* = 101.90807646693213\n",
      "4.170876785766689 101.90807646693213 3.669675674444761e-11\n"
     ]
    }
   ],
   "source": [
    "#Test for significant of regression\n",
    "n = len(df)\n",
    "F_star = (SSR/1)/(SSE/(n-2))\n",
    "print(\"F* = \" + str(F_star))\n",
    "F = stats.f.ppf(q = 1-0.05, dfn=1, dfd = n-2)\n",
    "p = 1- stats.f.cdf(x = F_star, dfn=1, dfd = n-2)\n",
    "print(F,F_star, p)"
   ]
  },
  {
   "cell_type": "markdown",
   "metadata": {},
   "source": [
    "c. What percent of the total variability in gasoline mileage is accounted for by the linear relationship with engine displacement?  \n",
    "77,2% of the total variability in gasoline mileage is accounted for by the linear relationship with engine displacement"
   ]
  },
  {
   "cell_type": "markdown",
   "metadata": {},
   "source": [
    "d. Find a 95% CI on the mean gasoline mileage if the engine displacement is 275 in.3  \n"
   ]
  },
  {
   "cell_type": "code",
   "execution_count": 51,
   "metadata": {},
   "outputs": [
    {
     "name": "stdout",
     "output_type": "stream",
     "text": [
      "19.54080861354697 21.834591386453035\n"
     ]
    }
   ],
   "source": [
    "y_275 = b0 + b1*275\n",
    "t_val = stats.t.ppf(q = 0.975, df=df_err)\n",
    "s_y = np.sqrt(MSE*(1/df_err + (275 - np.mean(df['x1']))**2/sum((df['x1'] - np.mean(df['x1']))**2)))\n",
    "\n",
    "L_ymean = y_275 - t_val * s_y\n",
    "U_ymean = y_275 + t_val * s_y\n",
    "print(L_ymean, U_ymean)"
   ]
  },
  {
   "cell_type": "markdown",
   "metadata": {},
   "source": [
    "e. Suppose that we wish to predict the gasoline mileage obtained from a car with a 275-in.3 engine. Give a point estimate of mileage. Find a 95% prediction interval on the mileage.  \n"
   ]
  },
  {
   "cell_type": "code",
   "execution_count": 52,
   "metadata": {},
   "outputs": [
    {
     "name": "stdout",
     "output_type": "stream",
     "text": [
      "Estimated mileage of 275 displacement is: 20.687700000000003\n",
      "19.241528813807157 22.13387118619285\n"
     ]
    }
   ],
   "source": [
    "print(\"Estimated mileage of 275 displacement is: \"+ str(y_275))\n",
    "F = stats.f.ppf(q = 1-0.05, dfn=2, dfd = n-2)\n",
    "W = np.sqrt(2*F)\n",
    "L = y_275 - W * s_y\n",
    "U = y_275 + W * s_y\n",
    "print(L, U)"
   ]
  },
  {
   "cell_type": "markdown",
   "metadata": {},
   "source": [
    "f. Compare the two intervals obtained in parts d and e. Explain the difference between them. Which one is wider, and why?  \n",
    "- CI of yh_mean: Estimates the population mean 𝜇  \n",
    "- CI of yh (prediction interval): Predicts a new observation y  \n",
    "- CI of y is wider as it includes both the uncertainty in estimating the mean and variability of data points around the mean"
   ]
  },
  {
   "cell_type": "markdown",
   "metadata": {},
   "source": [
    "**2.5**\n",
    "Consider the gasoline mileage data in Table B.3. Repeat Problem 2.4 (parts a, b, and c) using vehicle weight x10 as the regressor variable. Based on a\n",
    "comparison of the two models, can you conclude that x1 is a better choice of regressor than x10?  \n",
    "a. Fit a simple linear regression model relating gasoline mileage y (miles per gallon) to vehicle weight x10.  "
   ]
  },
  {
   "cell_type": "code",
   "execution_count": 53,
   "metadata": {},
   "outputs": [
    {
     "name": "stdout",
     "output_type": "stream",
     "text": [
      "                            OLS Regression Results                            \n",
      "==============================================================================\n",
      "Dep. Variable:                      y   R-squared:                       0.745\n",
      "Model:                            OLS   Adj. R-squared:                  0.736\n",
      "Method:                 Least Squares   F-statistic:                     87.48\n",
      "Date:                Fri, 14 Mar 2025   Prob (F-statistic):           2.12e-10\n",
      "Time:                        14:11:31   Log-Likelihood:                -82.047\n",
      "No. Observations:                  32   AIC:                             168.1\n",
      "Df Residuals:                      30   BIC:                             171.0\n",
      "Df Model:                           1                                         \n",
      "Covariance Type:            nonrobust                                         \n",
      "==============================================================================\n",
      "                 coef    std err          t      P>|t|      [0.025      0.975]\n",
      "------------------------------------------------------------------------------\n",
      "const         40.8524      2.279     17.926      0.000      36.198      45.507\n",
      "x10           -0.0058      0.001     -9.353      0.000      -0.007      -0.004\n",
      "==============================================================================\n",
      "Omnibus:                        1.807   Durbin-Watson:                   2.057\n",
      "Prob(Omnibus):                  0.405   Jarque-Bera (JB):                1.627\n",
      "Skew:                           0.446   Prob(JB):                        0.443\n",
      "Kurtosis:                       2.349   Cond. No.                     1.47e+04\n",
      "==============================================================================\n",
      "\n",
      "Notes:\n",
      "[1] Standard Errors assume that the covariance matrix of the errors is correctly specified.\n",
      "[2] The condition number is large, 1.47e+04. This might indicate that there are\n",
      "strong multicollinearity or other numerical problems.\n"
     ]
    }
   ],
   "source": [
    "X = df['x10']\n",
    "Y = df['y']\n",
    "X = sm.add_constant(X)\n",
    "model = sm.OLS(Y,X).fit()\n",
    "print(model.summary())"
   ]
  },
  {
   "cell_type": "markdown",
   "metadata": {},
   "source": [
    "b. Construct the analysis-of-variance table and test for significance of regression.  "
   ]
  },
  {
   "cell_type": "code",
   "execution_count": 54,
   "metadata": {},
   "outputs": [
    {
     "name": "stdout",
     "output_type": "stream",
     "text": [
      "            df      sum_sq     mean_sq          F        PR(>F)\n",
      "x10        1.0  921.527904  921.527904  87.482346  2.120672e-10\n",
      "Residual  30.0  316.016184   10.533873        NaN           NaN\n"
     ]
    }
   ],
   "source": [
    "b0 = 40.8524\n",
    "b1 = -0.0058 \n",
    "\n",
    "model2 = smf.ols('y ~ x10', data = df).fit()\n",
    "anova_table2 = sm.stats.anova_lm(model2, typ=1)\n",
    "print(anova_table2)"
   ]
  },
  {
   "cell_type": "code",
   "execution_count": 55,
   "metadata": {},
   "outputs": [
    {
     "name": "stdout",
     "output_type": "stream",
     "text": [
      "1 30\n"
     ]
    }
   ],
   "source": [
    "#Degree of freedom\n",
    "df_x1 = 1\n",
    "df_err = len(df) - 2\n",
    "print(df_x1, df_err)"
   ]
  },
  {
   "cell_type": "code",
   "execution_count": 56,
   "metadata": {},
   "outputs": [
    {
     "name": "stdout",
     "output_type": "stream",
     "text": [
      "938.0555619999999 317.0447639999999\n"
     ]
    }
   ],
   "source": [
    "#Sum of Squares\n",
    "SSR = sum(((b0 + b1*df['x10']) - np.mean(df['y']))**2)\n",
    "SSE = sum((df['y'] - (b0 + b1*df['x10']))**2)\n",
    "print(SSR, SSE)"
   ]
  },
  {
   "cell_type": "code",
   "execution_count": 57,
   "metadata": {},
   "outputs": [
    {
     "name": "stdout",
     "output_type": "stream",
     "text": [
      "938.0555619999999 10.568158799999996\n"
     ]
    }
   ],
   "source": [
    "#Mean Squares\n",
    "MSR = SSR / df_x1\n",
    "MSE = SSE / df_err\n",
    "print(MSR, MSE)"
   ]
  },
  {
   "cell_type": "code",
   "execution_count": 60,
   "metadata": {},
   "outputs": [
    {
     "name": "stdout",
     "output_type": "stream",
     "text": [
      "947.6603099949999 10.568158799999996\n"
     ]
    }
   ],
   "source": [
    "#Expected Mean Squares\n",
    "EMSR = MSE + b1**2 * sum((df['x10'] - np.mean(df['x10']))**2)\n",
    "EMSE = MSE\n",
    "print(EMSR, EMSE)"
   ]
  },
  {
   "cell_type": "code",
   "execution_count": 61,
   "metadata": {},
   "outputs": [
    {
     "name": "stdout",
     "output_type": "stream",
     "text": [
      "24.902273769949993 10.568158799999996\n"
     ]
    }
   ],
   "source": [
    "#Expected Mean Squares\n",
    "EMSR = MSE + b1**2 * sum((df['x1'] - np.mean(df['x1']))**2)\n",
    "EMSE = MSE\n",
    "print(EMSR, EMSE)"
   ]
  },
  {
   "cell_type": "code",
   "execution_count": 62,
   "metadata": {},
   "outputs": [
    {
     "name": "stdout",
     "output_type": "stream",
     "text": [
      "F* = 88.7624400572028\n",
      "4.170876785766689 88.7624400572028 1.7994461476433798e-10\n"
     ]
    }
   ],
   "source": [
    "#Test for significant of regression\n",
    "n = len(df)\n",
    "F_star = (SSR/1)/(SSE/(n-2))\n",
    "print(\"F* = \" + str(F_star))\n",
    "F = stats.f.ppf(q = 1-0.05, dfn=1, dfd = n-2)\n",
    "p = 1- stats.f.cdf(x = F_star, dfn=1, dfd = n-2)\n",
    "print(F,F_star, p)"
   ]
  },
  {
   "cell_type": "markdown",
   "metadata": {},
   "source": [
    "c. What percent of the total variability in gasoline mileage is accounted for by the linear relationship with engine displacement?  \n",
    "74,5% of the total variability in gasoline mileage is accounted for by the linear relationship with engine displacement.  \n",
    "**CONCLUSION:** We have 2 models, both fit a simple linear regression model relating gasoline mileage y with model1 to engine displacement x1 while model2 to vehicle weight x10. From the model summary, we can observe that model1 has better R-square value than model2 (0.772 > 0.745), indicating that model1 is better fitted."
   ]
  }
 ],
 "metadata": {
  "kernelspec": {
   "display_name": "Python 3",
   "language": "python",
   "name": "python3"
  },
  "language_info": {
   "codemirror_mode": {
    "name": "ipython",
    "version": 3
   },
   "file_extension": ".py",
   "mimetype": "text/x-python",
   "name": "python",
   "nbconvert_exporter": "python",
   "pygments_lexer": "ipython3",
   "version": "3.11.9"
  }
 },
 "nbformat": 4,
 "nbformat_minor": 2
}
