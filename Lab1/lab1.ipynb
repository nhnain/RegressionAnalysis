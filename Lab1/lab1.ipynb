{
 "cells": [
  {
   "cell_type": "code",
   "execution_count": 16,
   "metadata": {},
   "outputs": [],
   "source": [
    "import numpy as np\n",
    "import matplotlib.pyplot as plt\n",
    "import pandas as pd\n",
    "import statsmodels.api as sm\n",
    "import statsmodels.formula.api as smf\n",
    "import seaborn as sns"
   ]
  },
  {
   "cell_type": "code",
   "execution_count": 24,
   "metadata": {},
   "outputs": [
    {
     "data": {
      "text/html": [
       "<div>\n",
       "<style scoped>\n",
       "    .dataframe tbody tr th:only-of-type {\n",
       "        vertical-align: middle;\n",
       "    }\n",
       "\n",
       "    .dataframe tbody tr th {\n",
       "        vertical-align: top;\n",
       "    }\n",
       "\n",
       "    .dataframe thead th {\n",
       "        text-align: right;\n",
       "    }\n",
       "</style>\n",
       "<table border=\"1\" class=\"dataframe\">\n",
       "  <thead>\n",
       "    <tr style=\"text-align: right;\">\n",
       "      <th></th>\n",
       "      <th>Y</th>\n",
       "      <th>X</th>\n",
       "    </tr>\n",
       "  </thead>\n",
       "  <tbody>\n",
       "    <tr>\n",
       "      <th>0</th>\n",
       "      <td>8487</td>\n",
       "      <td>74</td>\n",
       "    </tr>\n",
       "    <tr>\n",
       "      <th>1</th>\n",
       "      <td>8179</td>\n",
       "      <td>82</td>\n",
       "    </tr>\n",
       "    <tr>\n",
       "      <th>2</th>\n",
       "      <td>8362</td>\n",
       "      <td>81</td>\n",
       "    </tr>\n",
       "    <tr>\n",
       "      <th>3</th>\n",
       "      <td>8220</td>\n",
       "      <td>81</td>\n",
       "    </tr>\n",
       "    <tr>\n",
       "      <th>4</th>\n",
       "      <td>6246</td>\n",
       "      <td>87</td>\n",
       "    </tr>\n",
       "    <tr>\n",
       "      <th>...</th>\n",
       "      <td>...</td>\n",
       "      <td>...</td>\n",
       "    </tr>\n",
       "    <tr>\n",
       "      <th>79</th>\n",
       "      <td>7858</td>\n",
       "      <td>85</td>\n",
       "    </tr>\n",
       "    <tr>\n",
       "      <th>80</th>\n",
       "      <td>3632</td>\n",
       "      <td>91</td>\n",
       "    </tr>\n",
       "    <tr>\n",
       "      <th>81</th>\n",
       "      <td>8040</td>\n",
       "      <td>88</td>\n",
       "    </tr>\n",
       "    <tr>\n",
       "      <th>82</th>\n",
       "      <td>6981</td>\n",
       "      <td>83</td>\n",
       "    </tr>\n",
       "    <tr>\n",
       "      <th>83</th>\n",
       "      <td>7582</td>\n",
       "      <td>76</td>\n",
       "    </tr>\n",
       "  </tbody>\n",
       "</table>\n",
       "<p>84 rows × 2 columns</p>\n",
       "</div>"
      ],
      "text/plain": [
       "       Y   X\n",
       "0   8487  74\n",
       "1   8179  82\n",
       "2   8362  81\n",
       "3   8220  81\n",
       "4   6246  87\n",
       "..   ...  ..\n",
       "79  7858  85\n",
       "80  3632  91\n",
       "81  8040  88\n",
       "82  6981  83\n",
       "83  7582  76\n",
       "\n",
       "[84 rows x 2 columns]"
      ]
     },
     "execution_count": 24,
     "metadata": {},
     "output_type": "execute_result"
    }
   ],
   "source": [
    "df = pd.read_csv('CH01PR28-crimerate.txt', sep='\\s+', names=['Y', 'X'])\n",
    "df"
   ]
  },
  {
   "cell_type": "code",
   "execution_count": 25,
   "metadata": {},
   "outputs": [
    {
     "data": {
      "image/png": "[encoded data removed]",
      "text/plain": [
       "<Figure size 640x480 with 1 Axes>"
      ]
     },
     "metadata": {},
     "output_type": "display_data"
    }
   ],
   "source": [
    "df.plot(kind='scatter', x='X', y='Y', s=32, alpha=.8)\n",
    "plt.gca().spines[['top', 'right',]].set_visible(False)"
   ]
  },
  {
   "cell_type": "code",
   "execution_count": 26,
   "metadata": {},
   "outputs": [
    {
     "name": "stdout",
     "output_type": "stream",
     "text": [
      "                            OLS Regression Results                            \n",
      "==============================================================================\n",
      "Dep. Variable:                      Y   R-squared:                       0.170\n",
      "Model:                            OLS   Adj. R-squared:                  0.160\n",
      "Method:                 Least Squares   F-statistic:                     16.83\n",
      "Date:                Sat, 08 Mar 2025   Prob (F-statistic):           9.57e-05\n",
      "Time:                        14:03:40   Log-Likelihood:                -770.43\n",
      "No. Observations:                  84   AIC:                             1545.\n",
      "Df Residuals:                      82   BIC:                             1550.\n",
      "Df Model:                           1                                         \n",
      "Covariance Type:            nonrobust                                         \n",
      "==============================================================================\n",
      "                 coef    std err          t      P>|t|      [0.025      0.975]\n",
      "------------------------------------------------------------------------------\n",
      "Intercept   2.052e+04   3277.643      6.260      0.000     1.4e+04     2.7e+04\n",
      "X           -170.5752     41.574     -4.103      0.000    -253.280     -87.871\n",
      "==============================================================================\n",
      "Omnibus:                        2.224   Durbin-Watson:                   1.495\n",
      "Prob(Omnibus):                  0.329   Jarque-Bera (JB):                2.229\n",
      "Skew:                           0.360   Prob(JB):                        0.328\n",
      "Kurtosis:                       2.655   Cond. No.                     1.01e+03\n",
      "==============================================================================\n",
      "\n",
      "Notes:\n",
      "[1] Standard Errors assume that the covariance matrix of the errors is correctly specified.\n",
      "[2] The condition number is large, 1.01e+03. This might indicate that there are\n",
      "strong multicollinearity or other numerical problems.\n"
     ]
    }
   ],
   "source": [
    "model = smf.ols('Y ~ X', data=df)\n",
    "results = model.fit()\n",
    "print(results.summary())"
   ]
  },
  {
   "cell_type": "markdown",
   "metadata": {},
   "source": [
    "1. Linear regression model"
   ]
  },
  {
   "cell_type": "code",
   "execution_count": 27,
   "metadata": {},
   "outputs": [
    {
     "data": {
      "image/png": "[encoded data removed]",
      "text/plain": [
       "<Figure size 500x500 with 1 Axes>"
      ]
     },
     "metadata": {},
     "output_type": "display_data"
    }
   ],
   "source": [
    "sns.relplot(x=df['X'], y=df['Y'], data=df)\n",
    "sns.lineplot(x=df['X'], y=2.052e+04-170.5752*df['X'], color='red')\n",
    "plt.show()"
   ]
  },
  {
   "cell_type": "markdown",
   "metadata": {},
   "source": [
    "Linear regression is probably not a good fit here as there are many outliers"
   ]
  },
  {
   "cell_type": "markdown",
   "metadata": {},
   "source": [
    "2. Obtain estimation"
   ]
  },
  {
   "cell_type": "markdown",
   "metadata": {},
   "source": [
    "a. The difference in the mean crime rate for two counties whose high-school graduation rates differ by one percentage point is $$\\beta1=170.5752$$"
   ]
  },
  {
   "cell_type": "code",
   "execution_count": 80,
   "metadata": {},
   "outputs": [
    {
     "name": "stdout",
     "output_type": "stream",
     "text": [
      "b.Mean of counties with high school graduation percentage X=80 is 6873.984\n"
     ]
    }
   ],
   "source": [
    "mean80 = 2.052e+04-170.5752*80\n",
    "print(\"b.Mean of counties with high school graduation percentage X=80 is \" + str(mean80))"
   ]
  },
  {
   "cell_type": "code",
   "execution_count": 81,
   "metadata": {},
   "outputs": [
    {
     "name": "stdout",
     "output_type": "stream",
     "text": [
      "c. MSE = sigma**2 = 5552117.668227731\n"
     ]
    }
   ],
   "source": [
    "#y = 2.052e+04-170.5752*np.mean(df['X'])\n",
    "b1 = -170.5752\n",
    "b0 = 2.052e+04\n",
    "sse = sum((df['Y'] - (b0 + b1*df['X']))**2)\n",
    "mse = sse/(len(df)-2)\n",
    "print(\"c. MSE = sigma**2 = \" + str(mse))"
   ]
  },
  {
   "cell_type": "markdown",
   "metadata": {},
   "source": [
    "3. t-test\n",
    "$$H0:\\beta0=0$$\n",
    "$$Ha:\\beta1\\neq0$$"
   ]
  },
  {
   "cell_type": "code",
   "execution_count": 60,
   "metadata": {},
   "outputs": [
    {
     "name": "stdout",
     "output_type": "stream",
     "text": [
      "t* = -4.1028951857061715\n"
     ]
    }
   ],
   "source": [
    "s_b1 = np.sqrt(mse/sum((df['X']-np.mean(df['X']))**2))\n",
    "t_star = b1/s_b1\n",
    "print(\"t* = \" + str(t_star))"
   ]
  },
  {
   "cell_type": "code",
   "execution_count": 75,
   "metadata": {},
   "outputs": [
    {
     "name": "stdout",
     "output_type": "stream",
     "text": [
      "t = 2.637123410420374\n"
     ]
    }
   ],
   "source": [
    "n = len(df['X'])\n",
    "t_val = stats.t.ppf(q = 0.995, df=n-2)\n",
    "print(\"t = \" + str(t_val))"
   ]
  },
  {
   "cell_type": "code",
   "execution_count": 78,
   "metadata": {},
   "outputs": [
    {
     "data": {
      "text/plain": [
       "9.571461149710038e-05"
      ]
     },
     "execution_count": 78,
     "metadata": {},
     "output_type": "execute_result"
    }
   ],
   "source": [
    "import scipy.stats as stats\n",
    "p = 2*(stats.t.cdf(x = t_star, df = len(df['X'])-2))\n",
    "p"
   ]
  },
  {
   "cell_type": "markdown",
   "metadata": {},
   "source": [
    "|t*| > t_val OR p_value > alpha => reject H0 and conclude Ha: $$Ha:\\beta1\\neq0$$"
   ]
  },
  {
   "cell_type": "markdown",
   "metadata": {},
   "source": [
    "4. Confidence interval of $$\\beta_1$$ with $$\\alpha=0.01$$"
   ]
  },
  {
   "cell_type": "code",
   "execution_count": 76,
   "metadata": {},
   "outputs": [
    {
     "name": "stdout",
     "output_type": "stream",
     "text": [
      "-280.2118913598635 -60.938508640136504\n"
     ]
    }
   ],
   "source": [
    "L = b1 - t_val * s_b1\n",
    "U = b1 + t_val * s_b1\n",
    "print(L, U)"
   ]
  },
  {
   "cell_type": "markdown",
   "metadata": {},
   "source": [
    "Confident interval for B1 with y_mean = 7111.202380952381 is (-280.2118913598635; -60.938508640136504)\n",
    "\n",
    "5. Calculate SSE, MSE, SSR, SSTO"
   ]
  },
  {
   "cell_type": "code",
   "execution_count": null,
   "metadata": {},
   "outputs": [
    {
     "name": "stdout",
     "output_type": "stream",
     "text": [
      "SSE = 455273648.794674\n",
      "MSE = 5552117.668227731\n",
      "SST = 548736107.5595238\n",
      "SSR = 93463438.21949297\n"
     ]
    }
   ],
   "source": [
    "ssr = sum(((b0 + b1*df['X']) - np.mean(df['Y']))**2)\n",
    "ssto = sum((df['Y'] - np.mean(df['Y']))**2)\n",
    "print (\"SSE = \" + str(sse))\n",
    "print (\"MSE = \" + str(mse))\n",
    "print (\"SSTO = \" + str(ssto))\n",
    "print (\"SSR = \" + str(ssr))"
   ]
  },
  {
   "cell_type": "markdown",
   "metadata": {},
   "source": [
    "6. Calculate the coefficient of determination and give conclusion"
   ]
  },
  {
   "cell_type": "code",
   "execution_count": null,
   "metadata": {},
   "outputs": [
    {
     "name": "stdout",
     "output_type": "stream",
     "text": [
      "R^2 = 0.17032492837981247\n"
     ]
    }
   ],
   "source": [
    "coef_determination = ssr/ssto\n",
    "print (\"R^2 = \" + str(coef_determination))"
   ]
  },
  {
   "cell_type": "markdown",
   "metadata": {},
   "source": [
    "The linear model is not suitable for the dataset\n",
    "\n",
    "7. Perform F-test and give conclusion"
   ]
  },
  {
   "cell_type": "code",
   "execution_count": 73,
   "metadata": {},
   "outputs": [
    {
     "name": "stdout",
     "output_type": "stream",
     "text": [
      "F* = 16.833835989165383\n"
     ]
    }
   ],
   "source": [
    "F_star = (ssr/1)/(sse/(len(df)-2))\n",
    "print(\"F* = \" + str(F_star))"
   ]
  },
  {
   "cell_type": "code",
   "execution_count": 77,
   "metadata": {},
   "outputs": [
    {
     "name": "stdout",
     "output_type": "stream",
     "text": [
      "6.9544198817871825 16.833835989165383 9.571097123162176e-05\n"
     ]
    }
   ],
   "source": [
    "theshold = stats.f.ppf(q = 1-0.01, dfn=1, dfd = n-2)\n",
    "p = 1- stats.f.cdf(x = F_star, dfn=1, dfd = n-2)\n",
    "print(theshold,F_star, p)"
   ]
  },
  {
   "cell_type": "markdown",
   "metadata": {},
   "source": [
    "F* > F_value => conclude Ha:\n",
    "$$Ha:\\beta1\\neq0$$\n",
    "The test statistic F* and decision rule consistent with the statistic in t-test"
   ]
  },
  {
   "cell_type": "markdown",
   "metadata": {},
   "source": []
  }
 ],
 "metadata": {
  "kernelspec": {
   "display_name": "Python 3",
   "language": "python",
   "name": "python3"
  },
  "language_info": {
   "codemirror_mode": {
    "name": "ipython",
    "version": 3
   },
   "file_extension": ".py",
   "mimetype": "text/x-python",
   "name": "python",
   "nbconvert_exporter": "python",
   "pygments_lexer": "ipython3",
   "version": "3.11.9"
  }
 },
 "nbformat": 4,
 "nbformat_minor": 2
}
